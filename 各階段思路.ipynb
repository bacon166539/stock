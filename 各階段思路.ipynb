{
 "cells": [
  {
   "cell_type": "markdown",
   "metadata": {},
   "source": [
    "各階段設計思路\n",
    "最後更新：2022/06/18"
   ]
  },
  {
   "cell_type": "markdown",
   "metadata": {},
   "source": [
    "階段零、決定選股的標準。\n",
    "\n",
    "在開始進行系統開發之前，我們應該要先來思考看看，如果是一般情況下，我們會怎麼挑選股票呢？\n",
    "\n",
    "在股市界中，新手最常聽到也最容易操作的選股法則是:KD指標20買；KD指標80賣。\n",
    "但這真的是比較好的法則嗎？\n",
    "我想或許不是。\n",
    "若我們以歷史數據回測(參考此篇文章：https://havocfuture.tw/blog/0050-kd-backtesting )。\n",
    "我們會發現雖然勝率不錯，但可能會出現明明市場處於大多頭風向，KD指標卻出現賣出訊號，同時KD指標有可能在整個大多頭期間都不會再有買入訊號的出現，因而錯過續漲的獲利空間！\n",
    "\n",
    "那既然KD指標20買；KD指標80賣的法則可能會錯過續漲空間，那我們還有其他選股法則嗎？\n",
    "\n",
    "在《一條線搞定當沖、波段、存股！：飆股達人陳弘月賺50％，勝率8成的投資心法》這本書中，作者提出其自創的28均線選股法則。\n",
    "意即在股價向上突破28K值均線時，進場買入；反之，向下突破28K值均線，出場賣出。同時合併成交量來判斷是否適合買入/賣出。\n",
    "若按照書內作者的這套操作方法，或許能夠在應該賣時賣出，且此選股法則也有能力看準時機追加進場。於是，我們先暫定以這套系統來實際操作看看"
   ]
  },
  {
   "cell_type": "markdown",
   "metadata": {},
   "source": [
    "階段一、分析與設計系統\n",
    "\n",
    "在階段零中，我們已經決定要使用28均線法則來做為篩選準則。\n",
    "接下來我們需要分流程來設計系統，並逐一實現。\n",
    "\n",
    "我大致將系統流程分為以下部分：\n",
    "初始設定 >> 獲取清單(目前整合至初始設定) >> 查詢個股 >> 計算指標 >> 準則判斷 >> 匯入清單\n",
    "                                          ∧                                    ∨\n",
    "                                          ∧                                    ∨\n",
    "                                          <<<<<<<<<<<<<<<<<<<<<<<<<<<<<<<<<<<<<<\n",
    "\n",
    "初始設定：包含基本套件匯入、函式定義及各代數的預設初始給值\n",
    "獲取清單：從證交所取回最新清單\n",
    "查詢個股：包括價格及成交量\n",
    "計算指標：計算各項判斷要有的各項指標\n",
    "準則判斷：透過計算的指標進行判斷\n",
    "匯入清單：符合判斷準則就匯入其對應的清單，後續將視情況匯出"
   ]
  },
  {
   "cell_type": "markdown",
   "metadata": {},
   "source": [
    "階段二、設計系統(初始設定)\n",
    "\n",
    "接下來在系統的運行中，有些部分是需要先定義的。\n",
    "例如函式、數值及空串列。但如果每次都是要用到的時候才給定義的話，版面或許會有些凌亂。因此我選擇將它納入進最前面的部分，也就是程式運行篩選迴圈前，就先弄完定義，這樣空間應該會整潔不少。\n",
    "下列我們看系統初始設定的部分。"
   ]
  },
  {
   "cell_type": "markdown",
   "metadata": {},
   "source": [
    "首先，我們在運行時，會使用到一些原本Python不會預設附帶的套件，因此我們需要利用pip指令來安裝。\n",
    "以Google Colab為例，我們會需要額外安裝twstock與yfinance。\n",
    "至於一般有預設的套件則是直接import即可，不需重複安裝。\n",
    "由於套件名稱有點冗長，於是我也另外給定對應的代號。"
   ]
  },
  {
   "cell_type": "code",
   "execution_count": null,
   "metadata": {},
   "outputs": [],
   "source": [
    "!pip install twstock\n",
    "!pip install yfinance\n",
    "import twstock as t \n",
    "import pandas as p \n",
    "from bs4 import BeautifulSoup \n",
    "import requests \n",
    "import time as ti\n",
    "import os as o"
   ]
  },
  {
   "cell_type": "markdown",
   "metadata": {},
   "source": [
    "接下來是定義函式的部分。\n",
    "這個系統中我們運用到兩個函式，一個是網頁查詢使用，另一個是Line Notify通知。\n",
    "由於本身對於api串接的熟悉度不是很好，因此這邊參考他人的程式代碼:(https://jeffwen0105.com/python_linenotify/)"
   ]
  },
  {
   "cell_type": "code",
   "execution_count": null,
   "metadata": {},
   "outputs": [],
   "source": [
    "def web(url):#定義網頁查詢函式\n",
    "    source = requests.get(url, headers={'Connection':'close'}) #連線到指定的網站\n",
    "    #因為股票要篩選好幾千個，若我們一直開啟新網頁而不關掉已使用完畢的頁面，電腦資源會被浪費\n",
    "    soup = BeautifulSoup(source.content, 'lxml', from_encoding='utf-8') #讀取這個網頁的內容\n",
    "    return soup #最終結果:回傳網頁內容\n",
    "\n",
    "def post_data(message, token):#Line notify傳訊息\n",
    "    try:\n",
    "        url = \"https://notify-api.line.me/api/notify\"#api網址\n",
    "        headers = {\n",
    "            'Authorization': f'Bearer {token}'\n",
    "        }\n",
    "        payload = {\n",
    "            'message': message\n",
    "        }\n",
    "        response = requests.request(\n",
    "            \"POST\",\n",
    "            url,\n",
    "            headers=headers,\n",
    "            data=payload\n",
    "        )\n",
    "        if response.status_code == 200:\n",
    "            print(f\"Success -> {response.text}\")\n",
    "    except Exception as _:\n",
    "        print(_)#狀態"
   ]
  },
  {
   "cell_type": "markdown",
   "metadata": {},
   "source": [
    "接下來是取得最新股票資料。\n",
    "在這邊我們利用pandas套件去讀取網頁內容，因上市及上櫃股為不統網頁因此這邊要取得兩次資料。\n",
    "我們先來看如果直接至表會變成怎樣！"
   ]
  },
  {
   "cell_type": "code",
   "execution_count": 2,
   "metadata": {},
   "outputs": [
    {
     "name": "stdout",
     "output_type": "stream",
     "text": [
      "           有價證券代號及名稱 國際證券辨識號碼(ISIN Code)         上市日 市場別   產業別 CFICode   備註\n",
      "0                 股票                  股票          股票  股票    股票      股票   股票\n",
      "1            1101　台泥        TW0001101004  1962/02/09  上市  水泥工業  ESVUFR  NaN\n",
      "2            1102　亞泥        TW0001102002  1962/06/08  上市  水泥工業  ESVUFR  NaN\n",
      "3            1103　嘉泥        TW0001103000  1969/11/14  上市  水泥工業  ESVUFR  NaN\n",
      "4            1104　環泥        TW0001104008  1971/02/01  上市  水泥工業  ESVUFR  NaN\n",
      "...              ...                 ...         ...  ..   ...     ...  ...\n",
      "30488  01003T　兆豐新光R1        TW00001003T4  2005/12/26  上市   NaN  CBCIXU  NaN\n",
      "30489  01004T　土銀富邦R2        TW00001004T2  2006/04/13  上市   NaN  CBCIXU  NaN\n",
      "30490  01007T　兆豐國泰R2        TW00001007T5  2006/10/13  上市   NaN  CBCIXU  NaN\n",
      "30491  01009T　王道圓滿R1        TW00001009T1  2018/06/21  上市   NaN  CBCIXU  NaN\n",
      "30492  01010T　京城樂富R1        TW00001010T9  2018/12/05  上市   NaN  CBCIXU  NaN\n",
      "\n",
      "[30493 rows x 7 columns]\n"
     ]
    }
   ],
   "source": [
    "import pandas as p \n",
    "data = p.read_html('http://isin.twse.com.tw/isin/C_public.jsp?strMode=2', encoding='big5hkscs', header=0)[0]\n",
    "print(data)"
   ]
  },
  {
   "cell_type": "markdown",
   "metadata": {},
   "source": [
    "因為我們只需要 \"有價證券代號及名稱\" 的這部分資訊，因此我們單獨把這部分拉來製表後，再替代掉原先的表格。"
   ]
  },
  {
   "cell_type": "code",
   "execution_count": 3,
   "metadata": {},
   "outputs": [
    {
     "name": "stdout",
     "output_type": "stream",
     "text": [
      "0                   股票\n",
      "1              1101　台泥\n",
      "2              1102　亞泥\n",
      "3              1103　嘉泥\n",
      "4              1104　環泥\n",
      "             ...      \n",
      "30488    01003T　兆豐新光R1\n",
      "30489    01004T　土銀富邦R2\n",
      "30490    01007T　兆豐國泰R2\n",
      "30491    01009T　王道圓滿R1\n",
      "30492    01010T　京城樂富R1\n",
      "Name: 有價證券代號及名稱, Length: 30493, dtype: object\n"
     ]
    }
   ],
   "source": [
    "import pandas as p \n",
    "data = p.read_html('http://isin.twse.com.tw/isin/C_public.jsp?strMode=2', encoding='big5hkscs', header=0)[0]\n",
    "data = p.DataFrame(data[\"有價證券代號及名稱\"])\n",
    "data = data[\"有價證券代號及名稱\"].astype(str)\n",
    "print(data)"
   ]
  },
  {
   "cell_type": "markdown",
   "metadata": {},
   "source": [
    "接下來我們只需要重複上市股的取得動作，但把網址改成上櫃股的網址，這樣我們就完成取得上市股跟上櫃股的最新清單步驟了！"
   ]
  },
  {
   "cell_type": "code",
   "execution_count": null,
   "metadata": {},
   "outputs": [],
   "source": [
    "#####取得上市股#####\n",
    "data = p.read_html('http://isin.twse.com.tw/isin/C_public.jsp?strMode=2', encoding='big5hkscs', header=0)[0]\n",
    "data = p.DataFrame(data[\"有價證券代號及名稱\"])\n",
    "data = data[\"有價證券代號及名稱\"].astype(str)\n",
    "\n",
    "#####取得上櫃股#####\n",
    "data2 = p.read_html('http://isin.twse.com.tw/isin/C_public.jsp?strMode=4', encoding='big5hkscs', header=0)[0]\n",
    "data2 = p.DataFrame(data2[\"有價證券代號及名稱\"])\n",
    "data2 = data2[\"有價證券代號及名稱\"].astype(str)"
   ]
  },
  {
   "cell_type": "markdown",
   "metadata": {},
   "source": []
  },
  {
   "cell_type": "code",
   "execution_count": null,
   "metadata": {},
   "outputs": [],
   "source": [
    "#####創建空串列#####\n",
    "stocklist=[]#篩選股票清單\n",
    "stock28list = []#符合條件清單\n",
    "amu28list = []#符合精選條件清單\n",
    "ulti28list = []#符合當沖精選條件清單\n",
    "\n",
    "#####代數預設指定#####\n",
    "d1s = 1 #上市股開始index碼\n",
    "d1e = 968 #上市股結束index碼\n",
    "d2s = 7408 #上櫃股開始index碼\n",
    "d2e = 8205 #上櫃股結束index碼\n",
    "\n",
    "fast_start = int(input(\"冷啟動請輸入0|快啟動請輸入1:\"+\"\\n上市股始/終:\"+str(d1s)+\"/\"+str(d1e)+\"\\n上櫃股始/終:\"+str(d2s)+\"/\"+str(d2e)+\"\\n\"))\n",
    "#####檢查上市股代數變動#####\n",
    "check_data_index = int(input(\"請問上市股index是否有改變?(0無1有)\"+\"\\n目前預設起始/終止值為:\"+str(d1s)+\"/\"+str(d1e)))\n",
    "\n",
    "if check_data_index == 0 and fast_start == 0:\n",
    "    d1s = 1 \n",
    "elif check_data_index == 1 and fast_start == 0:\n",
    "  d1s = int(input(\"請輸入上市股起始index:\"))\n",
    "  d1e = int(input(\"請輸入上市股終止index:\"))\n",
    "\n",
    "#####檢查上櫃股代數變動#####\n",
    "check_data2_index = int(input(\"請問上櫃股index是否有改變?(0無1有)\"+\"\\n目前預設起始/終止值為:\"+str(d2s)+\"/\"+str(d2e)))\n",
    "\n",
    "if check_data2_index == 0 and fast_start == 0:\n",
    "    d2s = 7408\n",
    "elif check_data2_index == 1 and fast_start == 0:\n",
    "  d2s = int(input(\"請輸入上櫃股起始index:\"))\n",
    "  d2e = int(input(\"請輸入上櫃股終止index:\"))"
   ]
  }
 ],
 "metadata": {
  "kernelspec": {
   "display_name": "Python 3.10.0 64-bit",
   "language": "python",
   "name": "python3"
  },
  "language_info": {
   "codemirror_mode": {
    "name": "ipython",
    "version": 3
   },
   "file_extension": ".py",
   "mimetype": "text/x-python",
   "name": "python",
   "nbconvert_exporter": "python",
   "pygments_lexer": "ipython3",
   "version": "3.10.0"
  },
  "orig_nbformat": 4,
  "vscode": {
   "interpreter": {
    "hash": "3e30c83b22147918c25b1d9fc834badab54b575e3debac97aebc070033583df6"
   }
  }
 },
 "nbformat": 4,
 "nbformat_minor": 2
}
