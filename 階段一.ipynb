{
 "cells": [
  {
   "cell_type": "markdown",
   "metadata": {},
   "source": [
    "各階段設計思路\n",
    "最後更新：2022/06/18"
   ]
  },
  {
   "cell_type": "markdown",
   "metadata": {},
   "source": [
    "階段一、分析與設計系統\n",
    "\n",
    "在階段零中，我們已經決定要使用28均線法則來做為篩選準則。\n",
    "接下來我們需要分流程來設計系統，並逐一實現。\n",
    "\n",
    "我大致將系統流程分為以下部分：\n",
    "初始設定 >> 獲取清單(目前整合至初始設定) >> 查詢個股 >> 計算指標 >> 準則判斷 >> 匯入清單\n",
    "                                          ∧                                    ∨\n",
    "                                          ∧                                    ∨\n",
    "                                          <<<<<<<<<<<<<<<<<<<<<<<<<<<<<<<<<<<<<<\n",
    "\n",
    "初始設定：包含基本套件匯入、函式定義及各代數的預設初始給值\n",
    "獲取清單：從證交所取回最新清單\n",
    "查詢個股：包括價格及成交量\n",
    "計算指標：計算各項判斷要有的各項指標\n",
    "準則判斷：透過計算的指標進行判斷\n",
    "匯入清單：符合判斷準則就匯入其對應的清單，後續將視情況匯出"
   ]
  }
 ],
 "metadata": {
  "kernelspec": {
   "display_name": "Python 3.10.0 64-bit",
   "language": "python",
   "name": "python3"
  },
  "language_info": {
   "codemirror_mode": {
    "name": "ipython",
    "version": 3
   },
   "file_extension": ".py",
   "mimetype": "text/x-python",
   "name": "python",
   "nbconvert_exporter": "python",
   "pygments_lexer": "ipython3",
   "version": "3.10.0"
  },
  "orig_nbformat": 4,
  "vscode": {
   "interpreter": {
    "hash": "3e30c83b22147918c25b1d9fc834badab54b575e3debac97aebc070033583df6"
   }
  }
 },
 "nbformat": 4,
 "nbformat_minor": 2
}
