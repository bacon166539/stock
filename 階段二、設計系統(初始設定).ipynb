{
 "cells": [
  {
   "cell_type": "markdown",
   "metadata": {},
   "source": [
    "各階段設計思路\n",
    "最後更新：2022/07/05"
   ]
  },
  {
   "cell_type": "markdown",
   "metadata": {},
   "source": [
    "階段二、設計系統(初始設定)\n",
    "\n",
    "接下來在系統的運行中，有些部分是需要先定義的。\n",
    "例如函式、數值及空串列。但如果每次都是要用到的時候才給定義的話，版面或許會有些凌亂。因此我選擇將它納入進最前面的部分，也就是程式運行篩選迴圈前，就先弄完定義，這樣空間應該會整潔不少。\n",
    "下列我們看系統初始設定的部分。"
   ]
  },
  {
   "cell_type": "markdown",
   "metadata": {},
   "source": [
    "首先，我們在運行時，會使用到一些原本Python不會預設附帶的套件，因此我們需要利用pip指令來安裝。\n",
    "以Google Colab為例，我們會需要額外安裝twstock與yfinance。\n",
    "至於一般有預設的套件則是直接import即可，不需重複安裝。\n",
    "由於套件名稱有點冗長，於是我也另外給定對應的代號。"
   ]
  },
  {
   "cell_type": "code",
   "execution_count": null,
   "metadata": {},
   "outputs": [],
   "source": [
    "#匯入函式資料庫\n",
    "#!pip install twstock\n",
    "#!pip install yfinance\n",
    "import twstock as t \n",
    "import pandas as p \n",
    "from bs4 import BeautifulSoup \n",
    "import requests \n",
    "import time as ti\n",
    "from datetime import datetime\n",
    "from pytz import timezone   "
   ]
  },
  {
   "cell_type": "markdown",
   "metadata": {},
   "source": [
    "接下來是定義函式的部分。\n",
    "這個系統中我們運用到兩個函式，一個是網頁查詢使用，另一個是Line Notify通知。\n",
    "由於本身對於api串接的熟悉度不是很好，因此這邊參考他人的程式代碼:(https://jeffwen0105.com/python_linenotify/)"
   ]
  },
  {
   "cell_type": "code",
   "execution_count": null,
   "metadata": {},
   "outputs": [],
   "source": [
    "def web(url):#定義網頁查詢函式\n",
    "    source = requests.get(url, headers={'Connection':'close'}) #連線到指定的網站\n",
    "    #因為股票要篩選好幾千個，若我們一直開啟新網頁而不關掉已使用完畢的頁面，電腦資源會被浪費\n",
    "    soup = BeautifulSoup(source.content, 'lxml', from_encoding='utf-8') #讀取這個網頁的內容\n",
    "    return soup #最終結果:回傳網頁內容\n",
    "\n",
    "def post_data(message, token):#Line notify傳訊息\n",
    "    try:\n",
    "        url = \"https://notify-api.line.me/api/notify\"#api網址\n",
    "        headers = {\n",
    "            'Authorization': f'Bearer {token}'\n",
    "        }\n",
    "        payload = {\n",
    "            'message': message\n",
    "        }\n",
    "        response = requests.request(\n",
    "            \"POST\",\n",
    "            url,\n",
    "            headers=headers,\n",
    "            data=payload\n",
    "        )\n",
    "        if response.status_code == 200:\n",
    "            print(f\"Success -> {response.text}\")\n",
    "    except Exception as _:\n",
    "        print(_)#狀態"
   ]
  },
  {
   "cell_type": "markdown",
   "metadata": {},
   "source": [
    "接下來是取得最新股票資料。\n",
    "在這邊我們利用pandas套件去讀取網頁內容，因上市及上櫃股為不同網頁因此這邊要取得兩次資料。\n",
    "因為我們只需要 \"有價證券代號及名稱\" 的這部分資訊，因此我們單獨把這部分拉來製表後，再替代掉原先的表格。\n",
    "接下來我們只需要重複上市股的取得動作，但把網址改成上櫃股的網址，這樣我們就完成取得上市股跟上櫃股的最新清單步驟了！"
   ]
  },
  {
   "cell_type": "code",
   "execution_count": null,
   "metadata": {},
   "outputs": [],
   "source": [
    "#####取得上市股#####\n",
    "data = p.read_html('http://isin.twse.com.tw/isin/C_public.jsp?strMode=2', encoding='big5hkscs', header=0)[0]\n",
    "data = p.DataFrame(data[\"有價證券代號及名稱\"])\n",
    "data = data[\"有價證券代號及名稱\"].astype(str)\n",
    "\n",
    "#####取得上櫃股#####\n",
    "data2 = p.read_html('http://isin.twse.com.tw/isin/C_public.jsp?strMode=4', encoding='big5hkscs', header=0)[0]\n",
    "data2 = p.DataFrame(data2[\"有價證券代號及名稱\"])\n",
    "data2 = data2[\"有價證券代號及名稱\"].astype(str)"
   ]
  },
  {
   "cell_type": "markdown",
   "metadata": {},
   "source": [
    "接下來是一些基本定義。\n",
    "因為後續判斷條件中，我在作者的判斷條件上另外多加 \"是否為當沖個股\" 的判斷條件。\n",
    "因此我也在前期就先給定好，後續可以直接調用。\n",
    "\n",
    "代數預設指定是針對部分後續會使用到的代數預先指定，後續使用比較好，不會出現一開始就初始化過不了的窘境(*經1.7版改版後，這部分的某些數值其實可以移除，不會影響系統篩選)。"
   ]
  },
  {
   "cell_type": "code",
   "execution_count": null,
   "metadata": {},
   "outputs": [],
   "source": [
    "#####取得可當沖股#####\n",
    "TW50 = [1101, 1216, 1301, 1303, 1326, 1590, 2002, 2207, 2227, 2303, 2308, 2317, 2327, 2330, 2352, 2357, 2379, 2382, 2395, 2408, 2409, 2412, 2454, 2603, 2609, 2610, 2615, 2801, 2880, 2881, 2882, 2883, 2884, 2885, 2886, 2887, 2891, 2892, 2912, 3008, 3034, 3037, 3045, 3711, 4904, 5871, 5876, 5880, 6415, 6505, 8046, 8454, 9910]\n",
    "RICH50 = [1565, 1785, 3081, 3105, 3152, 3211, 3218, 3227, 3228, 3260, 3264, 3293, 3324, 3374, 3529, 3552, 3680, 3707, 4105, 4123, 4128, 4736, 4966, 5274, 5289, 5347, 5351, 5371, 5425, 5483, 6104, 6121, 6138, 6147, 6182, 6274, 6411, 6488, 6510, 6547, 6548, 6561, 6732, 6741, 8069, 8086, 8255, 8299, 8358, 8436]\n",
    "MID100A = [1102,1210,1227,1229,1402,1434,1440,1451,1476,1477,1504,1560,1605,1717,1718,1722,1802,1907,2006,2014,2023,2027,2049,2105,2201,2301,2312,2313,2324,2337,2344,2347,2353,2354,2356,2360,2371,2376,2377,2385,2441,2449,2458,2474,2478,2492,2498,2542,2606,2618,2633,2637,2809,2812,2834,2845,2888,2889,2890,2915,3023,3035,3036,]\n",
    "MID100B = [3044,3051,3189,3231,3406,3443,3481,3532,3533,3653,3661,3702,3714,4137,4919,4938,4958,4961,5269,5522,6005,6116,6176,6213,6239,6271,6409,6531,6592,6669,6719,6770,6781,8464,9904,9914,9917,9921,9941,9945]\n",
    "Ulti_list = RICH50  + MID100A + MID100B + TW50 \n",
    "\n",
    "#####創建空串列#####\n",
    "stocklist_data = []#上市篩選股票清單\n",
    "stocklist_data2 = []#上櫃篩選股票清單\n",
    "stocklist = []#篩選股票清單\n",
    "stock28list = []#符合條件清單\n",
    "amu28list = []#符合精選條件清單\n",
    "ulti28list = []#符合當沖精選條件清單\n",
    "\n",
    "#####代數預設指定#####\n",
    "eps_check = 0 #eps資料檢查\n",
    "divi_check = 0 #dividend資料檢查\n",
    "self_divi_check1 = 0 #dividend資料自檢查1\n",
    "self_divi_check2 = 0 #dividend資料自檢查2\n",
    "self_eps_check1 = 0 #eps資料自檢查1\n",
    "self_eps_check2 = 0 #eps資料自檢查2\n",
    "characters = \"%,\" #設定特定字符\n",
    "rps_result = str('查無計算所需資料')#rps_result初始給值\n",
    "data_check = 0 #上市篩選索引檢查\n",
    "data2_check = 0 #上櫃篩選索引檢查\n",
    "TPE_time = timezone('Asia/Taipei') #本機時間時區指定"
   ]
  },
  {
   "cell_type": "markdown",
   "metadata": {},
   "source": [
    "因為股票會有新上市或下市的情況，同時系統抓到的股票清單內，會含有我不想要抓到的東西，例如:權證或ETF等。因此我讓系統自己從抓到的股票清單中，找尋股票清單中最開始的股票跟最後的股票內容，以此來確保系統篩選的都是股票，也保證清單是最新的。\n",
    "由於上市上櫃是兩個清單，因此需要先分別抓取後才能再彙整成一份清單。"
   ]
  },
  {
   "cell_type": "code",
   "execution_count": null,
   "metadata": {},
   "outputs": [],
   "source": [
    "#####抓找上市篩選股票清單#####\n",
    "for x in data.iloc:#個別抓資料\n",
    "    try:\n",
    "        if x == \"股票\":#找到\"股票\"索引\n",
    "            data_check = 1 #上市篩選索引開始\n",
    "        if x == \"上市認購(售)權證\":#找到\"上市認購(售)權證\"索引\n",
    "            data_check = 0 #上市篩選索引結束\n",
    "        if data_check == 1:#如果上市篩選索引開始\n",
    "            stockid = x\n",
    "            stocklist_data.append(stockid)#匯入清單\n",
    "    except:\n",
    "        continue\n",
    "stocklist_data.remove(\"股票\")#清除清單中的\"股票\"\n",
    "\n",
    "#####抓找上櫃篩選股票清單#####\n",
    "for z in data2.iloc:#個別抓資料\n",
    "    try:\n",
    "        if z == \"股票\":#找到\"股票\"索引\n",
    "            data2_check = 1 #上櫃篩選索引開始\n",
    "        if z == \"特別股\":#找到\"特別股\"索引\n",
    "            data2_check = 0 #上櫃篩選索引結束\n",
    "        if data2_check == 1:#如果上櫃篩選索引開始\n",
    "            stockid = z\n",
    "            stocklist_data2.append(stockid)#匯入清單\n",
    "    except:\n",
    "        continue\n",
    "stocklist_data2.remove(\"股票\")#清除清單中的\"股票\""
   ]
  },
  {
   "cell_type": "markdown",
   "metadata": {},
   "source": [
    "由於上市上櫃是兩個清單，因此需要先分別抓取後才能再彙整成一份清單。\n",
    "整合完畢後也通知使用者，提醒使用者初始化完成。"
   ]
  },
  {
   "cell_type": "code",
   "execution_count": null,
   "metadata": {},
   "outputs": [],
   "source": [
    "#####整合上市上櫃篩選股票清單#####\n",
    "stocklist = stocklist_data + stocklist_data2#整合\n",
    "\n",
    "#####Line Notify通知#####\n",
    "if __name__ == \"__main__\":\n",
    "  token = \"STiL2z0akXpZt1G63Z59VhmW1sFWlR2MtO3q5pUZLXV\" # Token\n",
    "  message = {\"\\n⚙系統初始化設定完成\\n🤖開始篩選股票\\n提醒您，相關操作說明請詳閱參閱連結說明喔!\\n bacons.cc/d/gvvw\"}     # 要發送的訊息\n",
    "  post_data(message, token)\n",
    "\n",
    "print(\"系統設定完成...\\n開始篩選股票\\n===============================\")\n",
    "print(\"實時符合當沖精選條件的股票:\")"
   ]
  }
 ],
 "metadata": {
  "kernelspec": {
   "display_name": "Python 3.10.0 64-bit",
   "language": "python",
   "name": "python3"
  },
  "language_info": {
   "codemirror_mode": {
    "name": "ipython",
    "version": 3
   },
   "file_extension": ".py",
   "mimetype": "text/x-python",
   "name": "python",
   "nbconvert_exporter": "python",
   "pygments_lexer": "ipython3",
   "version": "3.10.0"
  },
  "orig_nbformat": 4,
  "vscode": {
   "interpreter": {
    "hash": "3e30c83b22147918c25b1d9fc834badab54b575e3debac97aebc070033583df6"
   }
  }
 },
 "nbformat": 4,
 "nbformat_minor": 2
}
